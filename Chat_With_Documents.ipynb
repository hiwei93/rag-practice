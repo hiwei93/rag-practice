{
  "nbformat": 4,
  "nbformat_minor": 0,
  "metadata": {
    "colab": {
      "provenance": [],
      "toc_visible": true,
      "authorship_tag": "ABX9TyO5kiFwfxAbGh0zz478QyxO",
      "include_colab_link": true
    },
    "kernelspec": {
      "name": "python3",
      "display_name": "Python 3"
    },
    "language_info": {
      "name": "python"
    }
  },
  "cells": [
    {
      "cell_type": "markdown",
      "metadata": {
        "id": "view-in-github",
        "colab_type": "text"
      },
      "source": [
        "<a href=\"https://colab.research.google.com/github/hiwei93/rag-practice/blob/main/Chat_With_Documents.ipynb\" target=\"_parent\"><img src=\"https://colab.research.google.com/assets/colab-badge.svg\" alt=\"Open In Colab\"/></a>"
      ]
    },
    {
      "cell_type": "markdown",
      "source": [
        "# 文档数据的问答对话"
      ],
      "metadata": {
        "id": "fQl97D2laOPs"
      }
    },
    {
      "cell_type": "markdown",
      "source": [
        "## 安装依赖"
      ],
      "metadata": {
        "id": "n6E_PN0s3sLt"
      }
    },
    {
      "cell_type": "code",
      "execution_count": 1,
      "metadata": {
        "id": "fBExC0zjDbpY",
        "colab": {
          "base_uri": "https://localhost:8080/"
        },
        "outputId": "918cb1a7-7265-4b25-b41a-0d01ad8a30af"
      },
      "outputs": [
        {
          "output_type": "stream",
          "name": "stdout",
          "text": [
            "\u001b[2K     \u001b[90m━━━━━━━━━━━━━━━━━━━━━━━━━━━━━━━━━━━━━━━━\u001b[0m \u001b[32m803.6/803.6 kB\u001b[0m \u001b[31m9.8 MB/s\u001b[0m eta \u001b[36m0:00:00\u001b[0m\n",
            "\u001b[2K     \u001b[90m━━━━━━━━━━━━━━━━━━━━━━━━━━━━━━━━━━━━━━━━\u001b[0m \u001b[32m509.0/509.0 kB\u001b[0m \u001b[31m26.1 MB/s\u001b[0m eta \u001b[36m0:00:00\u001b[0m\n",
            "\u001b[2K     \u001b[90m━━━━━━━━━━━━━━━━━━━━━━━━━━━━━━━━━━━━━━━━\u001b[0m \u001b[32m1.6/1.6 MB\u001b[0m \u001b[31m24.7 MB/s\u001b[0m eta \u001b[36m0:00:00\u001b[0m\n",
            "\u001b[2K     \u001b[90m━━━━━━━━━━━━━━━━━━━━━━━━━━━━━━━━━━━━━━━━\u001b[0m \u001b[32m235.9/235.9 kB\u001b[0m \u001b[31m17.8 MB/s\u001b[0m eta \u001b[36m0:00:00\u001b[0m\n",
            "\u001b[2K     \u001b[90m━━━━━━━━━━━━━━━━━━━━━━━━━━━━━━━━━━━━━━━━\u001b[0m \u001b[32m54.0/54.0 kB\u001b[0m \u001b[31m2.8 MB/s\u001b[0m eta \u001b[36m0:00:00\u001b[0m\n",
            "\u001b[2K     \u001b[90m━━━━━━━━━━━━━━━━━━━━━━━━━━━━━━━━━━━━━━━━\u001b[0m \u001b[32m2.4/2.4 MB\u001b[0m \u001b[31m41.3 MB/s\u001b[0m eta \u001b[36m0:00:00\u001b[0m\n",
            "\u001b[2K     \u001b[90m━━━━━━━━━━━━━━━━━━━━━━━━━━━━━━━━━━━━━━━━\u001b[0m \u001b[32m92.0/92.0 kB\u001b[0m \u001b[31m4.6 MB/s\u001b[0m eta \u001b[36m0:00:00\u001b[0m\n",
            "\u001b[2K     \u001b[90m━━━━━━━━━━━━━━━━━━━━━━━━━━━━━━━━━━━━━━━━\u001b[0m \u001b[32m60.7/60.7 kB\u001b[0m \u001b[31m3.3 MB/s\u001b[0m eta \u001b[36m0:00:00\u001b[0m\n",
            "\u001b[2K     \u001b[90m━━━━━━━━━━━━━━━━━━━━━━━━━━━━━━━━━━━━━━━━\u001b[0m \u001b[32m40.8/40.8 kB\u001b[0m \u001b[31m2.1 MB/s\u001b[0m eta \u001b[36m0:00:00\u001b[0m\n",
            "\u001b[2K     \u001b[90m━━━━━━━━━━━━━━━━━━━━━━━━━━━━━━━━━━━━━━━━\u001b[0m \u001b[32m5.4/5.4 MB\u001b[0m \u001b[31m45.5 MB/s\u001b[0m eta \u001b[36m0:00:00\u001b[0m\n",
            "\u001b[2K     \u001b[90m━━━━━━━━━━━━━━━━━━━━━━━━━━━━━━━━━━━━━━━━\u001b[0m \u001b[32m6.4/6.4 MB\u001b[0m \u001b[31m41.9 MB/s\u001b[0m eta \u001b[36m0:00:00\u001b[0m\n",
            "\u001b[2K     \u001b[90m━━━━━━━━━━━━━━━━━━━━━━━━━━━━━━━━━━━━━━━━\u001b[0m \u001b[32m57.9/57.9 kB\u001b[0m \u001b[31m4.7 MB/s\u001b[0m eta \u001b[36m0:00:00\u001b[0m\n",
            "\u001b[2K     \u001b[90m━━━━━━━━━━━━━━━━━━━━━━━━━━━━━━━━━━━━━━━━\u001b[0m \u001b[32m105.6/105.6 kB\u001b[0m \u001b[31m7.8 MB/s\u001b[0m eta \u001b[36m0:00:00\u001b[0m\n",
            "\u001b[2K     \u001b[90m━━━━━━━━━━━━━━━━━━━━━━━━━━━━━━━━━━━━━━━━\u001b[0m \u001b[32m67.3/67.3 kB\u001b[0m \u001b[31m6.1 MB/s\u001b[0m eta \u001b[36m0:00:00\u001b[0m\n",
            "\u001b[?25h  Installing build dependencies ... \u001b[?25l\u001b[?25hdone\n",
            "  Getting requirements to build wheel ... \u001b[?25l\u001b[?25hdone\n",
            "  Preparing metadata (pyproject.toml) ... \u001b[?25l\u001b[?25hdone\n",
            "\u001b[2K     \u001b[90m━━━━━━━━━━━━━━━━━━━━━━━━━━━━━━━━━━━━━━━━\u001b[0m \u001b[32m698.9/698.9 kB\u001b[0m \u001b[31m50.9 MB/s\u001b[0m eta \u001b[36m0:00:00\u001b[0m\n",
            "\u001b[2K     \u001b[90m━━━━━━━━━━━━━━━━━━━━━━━━━━━━━━━━━━━━━━━━\u001b[0m \u001b[32m1.6/1.6 MB\u001b[0m \u001b[31m43.8 MB/s\u001b[0m eta \u001b[36m0:00:00\u001b[0m\n",
            "\u001b[2K     \u001b[90m━━━━━━━━━━━━━━━━━━━━━━━━━━━━━━━━━━━━━━━━\u001b[0m \u001b[32m67.6/67.6 kB\u001b[0m \u001b[31m8.1 MB/s\u001b[0m eta \u001b[36m0:00:00\u001b[0m\n",
            "\u001b[2K     \u001b[90m━━━━━━━━━━━━━━━━━━━━━━━━━━━━━━━━━━━━━━━━\u001b[0m \u001b[32m75.9/75.9 kB\u001b[0m \u001b[31m7.4 MB/s\u001b[0m eta \u001b[36m0:00:00\u001b[0m\n",
            "\u001b[2K     \u001b[90m━━━━━━━━━━━━━━━━━━━━━━━━━━━━━━━━━━━━━━━━\u001b[0m \u001b[32m394.2/394.2 kB\u001b[0m \u001b[31m35.6 MB/s\u001b[0m eta \u001b[36m0:00:00\u001b[0m\n",
            "\u001b[2K     \u001b[90m━━━━━━━━━━━━━━━━━━━━━━━━━━━━━━━━━━━━━━━━\u001b[0m \u001b[32m49.4/49.4 kB\u001b[0m \u001b[31m5.4 MB/s\u001b[0m eta \u001b[36m0:00:00\u001b[0m\n",
            "\u001b[2K     \u001b[90m━━━━━━━━━━━━━━━━━━━━━━━━━━━━━━━━━━━━━━━━\u001b[0m \u001b[32m71.1/71.1 kB\u001b[0m \u001b[31m8.2 MB/s\u001b[0m eta \u001b[36m0:00:00\u001b[0m\n",
            "\u001b[2K     \u001b[90m━━━━━━━━━━━━━━━━━━━━━━━━━━━━━━━━━━━━━━━━\u001b[0m \u001b[32m76.9/76.9 kB\u001b[0m \u001b[31m8.3 MB/s\u001b[0m eta \u001b[36m0:00:00\u001b[0m\n",
            "\u001b[2K     \u001b[90m━━━━━━━━━━━━━━━━━━━━━━━━━━━━━━━━━━━━━━━━\u001b[0m \u001b[32m58.3/58.3 kB\u001b[0m \u001b[31m6.5 MB/s\u001b[0m eta \u001b[36m0:00:00\u001b[0m\n",
            "\u001b[2K     \u001b[90m━━━━━━━━━━━━━━━━━━━━━━━━━━━━━━━━━━━━━━━━\u001b[0m \u001b[32m46.0/46.0 kB\u001b[0m \u001b[31m5.0 MB/s\u001b[0m eta \u001b[36m0:00:00\u001b[0m\n",
            "\u001b[2K     \u001b[90m━━━━━━━━━━━━━━━━━━━━━━━━━━━━━━━━━━━━━━━━\u001b[0m \u001b[32m50.8/50.8 kB\u001b[0m \u001b[31m6.1 MB/s\u001b[0m eta \u001b[36m0:00:00\u001b[0m\n",
            "\u001b[2K     \u001b[90m━━━━━━━━━━━━━━━━━━━━━━━━━━━━━━━━━━━━━━━━\u001b[0m \u001b[32m2.2/2.2 MB\u001b[0m \u001b[31m78.2 MB/s\u001b[0m eta \u001b[36m0:00:00\u001b[0m\n",
            "\u001b[2K     \u001b[90m━━━━━━━━━━━━━━━━━━━━━━━━━━━━━━━━━━━━━━━━\u001b[0m \u001b[32m341.4/341.4 kB\u001b[0m \u001b[31m37.2 MB/s\u001b[0m eta \u001b[36m0:00:00\u001b[0m\n",
            "\u001b[2K     \u001b[90m━━━━━━━━━━━━━━━━━━━━━━━━━━━━━━━━━━━━━━━━\u001b[0m \u001b[32m3.4/3.4 MB\u001b[0m \u001b[31m92.7 MB/s\u001b[0m eta \u001b[36m0:00:00\u001b[0m\n",
            "\u001b[2K     \u001b[90m━━━━━━━━━━━━━━━━━━━━━━━━━━━━━━━━━━━━━━━━\u001b[0m \u001b[32m1.3/1.3 MB\u001b[0m \u001b[31m72.3 MB/s\u001b[0m eta \u001b[36m0:00:00\u001b[0m\n",
            "\u001b[2K     \u001b[90m━━━━━━━━━━━━━━━━━━━━━━━━━━━━━━━━━━━━━━━━\u001b[0m \u001b[32m130.2/130.2 kB\u001b[0m \u001b[31m14.9 MB/s\u001b[0m eta \u001b[36m0:00:00\u001b[0m\n",
            "\u001b[2K     \u001b[90m━━━━━━━━━━━━━━━━━━━━━━━━━━━━━━━━━━━━━━━━\u001b[0m \u001b[32m86.8/86.8 kB\u001b[0m \u001b[31m10.4 MB/s\u001b[0m eta \u001b[36m0:00:00\u001b[0m\n",
            "\u001b[?25h  Building wheel for pypika (pyproject.toml) ... \u001b[?25l\u001b[?25hdone\n",
            "\u001b[31mERROR: pip's dependency resolver does not currently take into account all the packages that are installed. This behaviour is the source of the following dependency conflicts.\n",
            "lida 0.0.10 requires kaleido, which is not installed.\n",
            "lida 0.0.10 requires python-multipart, which is not installed.\n",
            "llmx 0.0.15a0 requires cohere, which is not installed.\n",
            "llmx 0.0.15a0 requires openai, which is not installed.\n",
            "llmx 0.0.15a0 requires tiktoken, which is not installed.\n",
            "tensorflow-probability 0.22.0 requires typing-extensions<4.6.0, but you have typing-extensions 4.9.0 which is incompatible.\u001b[0m\u001b[31m\n",
            "\u001b[0m"
          ]
        }
      ],
      "source": [
        "!pip install langchain beautifulsoup4 spacy chromadb zhipuai --quiet"
      ]
    },
    {
      "cell_type": "markdown",
      "source": [
        "## 准备数据及各个 RAG 组件"
      ],
      "metadata": {
        "id": "4roQaaQC3zVa"
      }
    },
    {
      "cell_type": "markdown",
      "source": [
        "### 数据加载及分割"
      ],
      "metadata": {
        "id": "4w4V29HAam96"
      }
    },
    {
      "cell_type": "code",
      "source": [
        "from langchain_community.document_loaders import WebBaseLoader\n",
        "\n",
        "loader = WebBaseLoader(\"https://pub.towardsai.net/advanced-rag-techniques-an-illustrated-overview-04d193d8fec6\")\n",
        "data = loader.load()"
      ],
      "metadata": {
        "id": "3b_6fDBUyoGT"
      },
      "execution_count": 2,
      "outputs": []
    },
    {
      "cell_type": "code",
      "source": [
        "data[0].page_content[:500]"
      ],
      "metadata": {
        "colab": {
          "base_uri": "https://localhost:8080/",
          "height": 89
        },
        "id": "B_YRWLYZMFnT",
        "outputId": "b430b7bb-eb20-4e06-99e8-c40805474de3"
      },
      "execution_count": 3,
      "outputs": [
        {
          "output_type": "execute_result",
          "data": {
            "text/plain": [
              "'Advanced RAG Techniques: an Illustrated Overview | by IVAN ILIN | Dec, 2023 | Towards AIOpen in appSign upSign inWriteSign upSign inGroningen, Martinitoren, where the article was composed in the peace of the NoorderplatsoenAdvanced RAG Techniques: an Illustrated OverviewIVAN ILIN·FollowPublished inTowards AI·19 min read·Dec 17, 2023--25ListenShareA comprehensive study of the advanced retrieval augmented generation techniques and algorithms, systemising various approaches. The article comes with '"
            ],
            "application/vnd.google.colaboratory.intrinsic+json": {
              "type": "string"
            }
          },
          "metadata": {},
          "execution_count": 3
        }
      ]
    },
    {
      "cell_type": "code",
      "source": [
        "from langchain.text_splitter import SpacyTextSplitter\n",
        "\n",
        "text_splitter = SpacyTextSplitter(chunk_size=500, chunk_overlap=50)\n",
        "docs = text_splitter.split_documents(data)"
      ],
      "metadata": {
        "colab": {
          "base_uri": "https://localhost:8080/"
        },
        "id": "ym6qFntOTqBr",
        "outputId": "335929ff-b3fe-44d2-9f9f-b71ea8e92f2e"
      },
      "execution_count": 3,
      "outputs": [
        {
          "output_type": "stream",
          "name": "stderr",
          "text": [
            "/usr/local/lib/python3.10/dist-packages/spacy/pipeline/lemmatizer.py:211: UserWarning: [W108] The rule-based lemmatizer did not find POS annotation for one or more tokens. Check that your pipeline includes components that assign token.pos, typically 'tagger'+'attribute_ruler' or 'morphologizer'.\n",
            "  warnings.warn(Warnings.W108)\n",
            "WARNING:langchain.text_splitter:Created a chunk of size 754, which is longer than the specified 500\n",
            "WARNING:langchain.text_splitter:Created a chunk of size 681, which is longer than the specified 500\n",
            "WARNING:langchain.text_splitter:Created a chunk of size 681, which is longer than the specified 500\n"
          ]
        }
      ]
    },
    {
      "cell_type": "code",
      "source": [
        "len(docs)"
      ],
      "metadata": {
        "colab": {
          "base_uri": "https://localhost:8080/"
        },
        "id": "hte7-bi6UBi_",
        "outputId": "2a326f98-60a9-4d88-8d1a-a95fcf114f1e"
      },
      "execution_count": null,
      "outputs": [
        {
          "output_type": "execute_result",
          "data": {
            "text/plain": [
              "74"
            ]
          },
          "metadata": {},
          "execution_count": 10
        }
      ]
    },
    {
      "cell_type": "markdown",
      "source": [
        "### embedding 文本块及向量存储"
      ],
      "metadata": {
        "id": "EsWn_fm9asuL"
      }
    },
    {
      "cell_type": "code",
      "source": [
        "from google.colab import userdata\n",
        "\n",
        "# 获取 Huggingface token\n",
        "inference_api_key = userdata.get('hf_token')"
      ],
      "metadata": {
        "id": "j45EZZPSVI8N"
      },
      "execution_count": 4,
      "outputs": []
    },
    {
      "cell_type": "code",
      "source": [
        "from langchain_community.embeddings import HuggingFaceInferenceAPIEmbeddings\n",
        "\n",
        "embedding = HuggingFaceInferenceAPIEmbeddings(\n",
        "    api_key=inference_api_key, model_name=\"intfloat/multilingual-e5-large\"\n",
        ")"
      ],
      "metadata": {
        "id": "c0bsSyoOU341"
      },
      "execution_count": 5,
      "outputs": []
    },
    {
      "cell_type": "code",
      "source": [
        "from langchain_community.vectorstores import Chroma\n",
        "\n",
        "vectordb = Chroma.from_documents(\n",
        "    docs, embedding\n",
        ")"
      ],
      "metadata": {
        "id": "09N0wTLAVO1c"
      },
      "execution_count": 6,
      "outputs": []
    },
    {
      "cell_type": "code",
      "source": [
        "vectordb._client.list_collections()"
      ],
      "metadata": {
        "colab": {
          "base_uri": "https://localhost:8080/"
        },
        "id": "8ygboA73Yowv",
        "outputId": "91e7eb44-f800-43b7-d31f-5ee21361ce0c"
      },
      "execution_count": 8,
      "outputs": [
        {
          "output_type": "execute_result",
          "data": {
            "text/plain": [
              "[Collection(name=langchain)]"
            ]
          },
          "metadata": {},
          "execution_count": 8
        }
      ]
    },
    {
      "cell_type": "code",
      "source": [
        "vectordb.similarity_search_with_relevance_scores(\"What's is RAG?\")"
      ],
      "metadata": {
        "id": "kcOBts1fW4iQ"
      },
      "execution_count": null,
      "outputs": []
    },
    {
      "cell_type": "code",
      "source": [
        "from langchain.chat_models import ChatGooglePalm\n",
        "llm = ChatGooglePalm(\n",
        "    google_api_key=userdata.get('google_token'),\n",
        "    model='gemini-pro'\n",
        ")"
      ],
      "metadata": {
        "id": "DFYPvvlknPBE"
      },
      "execution_count": 7,
      "outputs": []
    },
    {
      "cell_type": "code",
      "source": [
        "llm.invoke(\"Who are you?\")"
      ],
      "metadata": {
        "colab": {
          "base_uri": "https://localhost:8080/",
          "height": 71
        },
        "id": "VMonzSOwXNV5",
        "outputId": "ae9478ed-9b0f-460c-a0fa-72ff09d44439"
      },
      "execution_count": 13,
      "outputs": [
        {
          "output_type": "execute_result",
          "data": {
            "text/plain": [
              "ChatMessage(content='I am a large language model, also known as a conversational AI or chatbot trained to be informative and comprehensive. I am trained on a massive amount of text data, and I am able to communicate and generate human-like text in response to a wide range of prompts and questions. For example, I can provide summaries of factual topics or create stories.', role='1')"
            ]
          },
          "metadata": {},
          "execution_count": 13
        }
      ]
    },
    {
      "cell_type": "markdown",
      "source": [
        "## 单轮 QA"
      ],
      "metadata": {
        "id": "sb8STVuH4Hl1"
      }
    },
    {
      "cell_type": "code",
      "source": [
        "from langchain.prompts import PromptTemplate\n",
        "\n",
        "# Build prompt\n",
        "template = \"\"\"Use the following pieces of context to answer the question at the end. If you don't know the answer, just say that you don't know, don't try to make up an answer. Use three sentences maximum. Keep the answer as concise as possible. Always say \"thanks for asking!\" at the end of the answer.\n",
        "Tips: Make sure to cite your sources, and use the exact words from the context.\n",
        "{context}\n",
        "Question: {question}\n",
        "Helpful Answer:\"\"\"\n",
        "QA_CHAIN_PROMPT = PromptTemplate.from_template(template)"
      ],
      "metadata": {
        "id": "w200-x7qbNF1"
      },
      "execution_count": null,
      "outputs": []
    },
    {
      "cell_type": "code",
      "source": [
        "from langchain.chains import RetrievalQA\n",
        "\n",
        "basic_qa = RetrievalQA.from_chain_type(\n",
        "    llm,\n",
        "    retriever=vectordb.as_retriever(),\n",
        "    return_source_documents=True,\n",
        "    chain_type_kwargs={\"prompt\": QA_CHAIN_PROMPT}\n",
        ")"
      ],
      "metadata": {
        "id": "ccj1LQNfbM_C"
      },
      "execution_count": null,
      "outputs": []
    },
    {
      "cell_type": "code",
      "source": [
        "result = basic_qa.invoke({\"query\": \"What's RAG?\"})"
      ],
      "metadata": {
        "id": "A-Yx3fuucA8n"
      },
      "execution_count": null,
      "outputs": []
    },
    {
      "cell_type": "code",
      "source": [
        "result"
      ],
      "metadata": {
        "colab": {
          "base_uri": "https://localhost:8080/"
        },
        "id": "pOSHOjRvwXni",
        "outputId": "31884b6d-3d62-4ece-f004-aced0ebfb6aa"
      },
      "execution_count": null,
      "outputs": [
        {
          "output_type": "execute_result",
          "data": {
            "text/plain": [
              "{'query': \"What's RAG?\",\n",
              " 'result': 'Retrieval Augmented Generation (RAG) is a technique that uses information retrieved from a data source to ground the generation of an answer by a large language model (LLM). This is done by injecting both the query and the retrieved context into the prompt that is sent to the LLM. RAG is the most popular architecture of LLM-based systems in 2023.\\n\\nHere are some examples of RAG-based systems:\\n\\n* Question Answering services that combine web search engines with LLMs\\n* Chat-with-your-data apps\\n* Vector search engines\\n\\nRAG has been shown to be effective in a variety of tasks, including question answering, summarization, and translation. It is a promising technique for improving the performance of LLMs on a wide range of tasks.\\n\\nThanks for asking!',\n",
              " 'source_documents': [Document(page_content='Retrieval Augmented Generation, aka RAG, provides LLMs with the information retrieved from some data source to ground its generated answer on.\\n\\nBasically RAG is Search + LLM prompting, where you ask the model to answer the query provided the information found with the search algorithm as a context.\\n\\nBoth the query and the retrieved context are injected into the prompt that is sent to the LLM.RAG is the most popular architecture of the LLM based systems in 2023.', metadata={'description': 'A comprehensive study of the advanced retrieval augmented generation techniques and algorithms, systemising various approaches. The article comes with a collection of links in my knowledge base referencing various implementations and studies mentioned.', 'language': 'en', 'source': 'https://pub.towardsai.net/advanced-rag-techniques-an-illustrated-overview-04d193d8fec6', 'title': 'Advanced RAG Techniques: an Illustrated Overview | by IVAN ILIN | Dec, 2023 | Towards AI'}),\n",
              "  Document(page_content='There are many products build almost solely on RAG — from Question Answering services combining web search engines with LLMs to hundreds of chat-with-your-data apps.\\n\\nEven the vector search area got pumped by that hype although embedding based search engines were made with faiss back in 2019.', metadata={'description': 'A comprehensive study of the advanced retrieval augmented generation techniques and algorithms, systemising various approaches. The article comes with a collection of links in my knowledge base referencing various implementations and studies mentioned.', 'language': 'en', 'source': 'https://pub.towardsai.net/advanced-rag-techniques-an-illustrated-overview-04d193d8fec6', 'title': 'Advanced RAG Techniques: an Illustrated Overview | by IVAN ILIN | Dec, 2023 | Towards AI'}),\n",
              "  Document(page_content='In a recently released great short course Building and Evaluating Advanced RAG by Andrew NG, LlamaIndex and the evaluation framework Truelens, they suggest the RAG triad — retrieved context relevance to the query, groundedness (how much the LLM answer is supported by the provided context) and answer relevance to the query.', metadata={'description': 'A comprehensive study of the advanced retrieval augmented generation techniques and algorithms, systemising various approaches. The article comes with a collection of links in my knowledge base referencing various implementations and studies mentioned.', 'language': 'en', 'source': 'https://pub.towardsai.net/advanced-rag-techniques-an-illustrated-overview-04d193d8fec6', 'title': 'Advanced RAG Techniques: an Illustrated Overview | by IVAN ILIN | Dec, 2023 | Towards AI'}),\n",
              "  Document(page_content='The article comes with a collection of links in my knowledge base referencing various implementations and studies mentioned.\\n\\nSince the goal of the post is to make an overview & explanation of avaliable RAG algorithms and techniques, I won’t dive into implementations details in code, just referencing them and leaving it to the vast documentation & tutorials available.\\n\\nIntroIf\\n\\nyou are familiar with the RAG concept, please skip to the Advanced RAG part.', metadata={'description': 'A comprehensive study of the advanced retrieval augmented generation techniques and algorithms, systemising various approaches. The article comes with a collection of links in my knowledge base referencing various implementations and studies mentioned.', 'language': 'en', 'source': 'https://pub.towardsai.net/advanced-rag-techniques-an-illustrated-overview-04d193d8fec6', 'title': 'Advanced RAG Techniques: an Illustrated Overview | by IVAN ILIN | Dec, 2023 | Towards AI'})]}"
            ]
          },
          "metadata": {},
          "execution_count": 14
        }
      ]
    },
    {
      "cell_type": "code",
      "source": [],
      "metadata": {
        "id": "fIxBwriKkWGy"
      },
      "execution_count": null,
      "outputs": []
    },
    {
      "cell_type": "markdown",
      "source": [
        "## 对话问答（多轮 QA）\n",
        "\n",
        "ConversationalRetrievalChain 逻辑：\n",
        "\n",
        "![ConversationalRetrievalChain 算法逻辑](data:image/png;base64,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)\n",
        "\n",
        "该方法主要解决的问题：平衡历史对话对新问题的影响\n",
        "1. 直接使用新问题，则可能缺失对话上下文信息\n",
        "2. 将历史对话全部使用，则可能引入无关内容"
      ],
      "metadata": {
        "id": "aNoIkYv_4fee"
      }
    },
    {
      "cell_type": "code",
      "source": [
        "from langchain.memory import ConversationBufferMemory\n",
        "\n",
        "memory = ConversationBufferMemory(\n",
        "    memory_key=\"chat_history\",\n",
        "    return_messages=True\n",
        ")"
      ],
      "metadata": {
        "id": "qnv0lf7iXXHG"
      },
      "execution_count": 22,
      "outputs": []
    },
    {
      "cell_type": "code",
      "source": [
        "from langchain.chains import ConversationalRetrievalChain\n",
        "\n",
        "qa = ConversationalRetrievalChain.from_llm(\n",
        "    llm,\n",
        "    retriever=vectordb.as_retriever(),\n",
        "    memory=memory,\n",
        "    verbose=True,\n",
        ")"
      ],
      "metadata": {
        "id": "K05mzziGtKj-"
      },
      "execution_count": 23,
      "outputs": []
    },
    {
      "cell_type": "code",
      "source": [
        "qa.invoke({\"question\": \"What's RAG?\"})"
      ],
      "metadata": {
        "colab": {
          "base_uri": "https://localhost:8080/",
          "height": 1000
        },
        "id": "LDCyCmgrtKbu",
        "outputId": "d31be823-95a8-440c-b102-a591f0cc6199"
      },
      "execution_count": 24,
      "outputs": [
        {
          "output_type": "stream",
          "name": "stdout",
          "text": [
            "\n",
            "\n",
            "\u001b[1m> Entering new StuffDocumentsChain chain...\u001b[0m\n",
            "\n",
            "\n",
            "\u001b[1m> Entering new LLMChain chain...\u001b[0m\n",
            "Prompt after formatting:\n",
            "\u001b[32;1m\u001b[1;3mSystem: Use the following pieces of context to answer the user's question. \n",
            "If you don't know the answer, just say that you don't know, don't try to make up an answer.\n",
            "----------------\n",
            "Retrieval Augmented Generation, aka RAG, provides LLMs with the information retrieved from some data source to ground its generated answer on.\n",
            "\n",
            "Basically RAG is Search + LLM prompting, where you ask the model to answer the query provided the information found with the search algorithm as a context.\n",
            "\n",
            "Both the query and the retrieved context are injected into the prompt that is sent to the LLM.RAG is the most popular architecture of the LLM based systems in 2023.\n",
            "\n",
            "There are many products build almost solely on RAG — from Question Answering services combining web search engines with LLMs to hundreds of chat-with-your-data apps.\n",
            "\n",
            "Even the vector search area got pumped by that hype although embedding based search engines were made with faiss back in 2019.\n",
            "\n",
            "In a recently released great short course Building and Evaluating Advanced RAG by Andrew NG, LlamaIndex and the evaluation framework Truelens, they suggest the RAG triad — retrieved context relevance to the query, groundedness (how much the LLM answer is supported by the provided context) and answer relevance to the query.\n",
            "\n",
            "The article comes with a collection of links in my knowledge base referencing various implementations and studies mentioned.\n",
            "\n",
            "Since the goal of the post is to make an overview & explanation of avaliable RAG algorithms and techniques, I won’t dive into implementations details in code, just referencing them and leaving it to the vast documentation & tutorials available.\n",
            "\n",
            "IntroIf\n",
            "\n",
            "you are familiar with the RAG concept, please skip to the Advanced RAG part.\n",
            "Human: What's RAG?\u001b[0m\n",
            "\n",
            "\u001b[1m> Finished chain.\u001b[0m\n",
            "\n",
            "\u001b[1m> Finished chain.\u001b[0m\n"
          ]
        },
        {
          "output_type": "execute_result",
          "data": {
            "text/plain": [
              "{'question': \"What's RAG?\",\n",
              " 'chat_history': [HumanMessage(content=\"What's RAG?\"),\n",
              "  AIMessage(content='RAG stands for Retrieval Augmented Generation. It is a technique that uses a large language model (LLM) to generate text, but also uses information retrieved from a search engine to ground the generated text. This can be done by injecting the query and the retrieved context into the prompt that is sent to the LLM.\\n\\nRAG has been shown to be effective for a variety of tasks, including question answering, summarization, and translation. It is also being used to develop new applications, such as chatbots that can answer questions about real-world topics.\\n\\nOne of the advantages of RAG is that it can help to improve the accuracy of LLMs. When an LLM is given a query, it may not be able to generate a correct answer if it does not have enough information. However, if the LLM is given the query and the retrieved context, it can use this information to generate a more accurate answer.\\n\\nAnother advantage of RAG is that it can help to improve the fluency of LLMs. When an LLM is given a query, it may generate text that is grammatically correct, but it may not sound natural. However, if the LLM is given the query and the retrieved context, it can use this information to generate text that is both grammatically correct and natural-sounding.\\n\\nRAG is a promising new technique that has the potential to improve the performance of LLMs on a variety of tasks. It is also being used to develop new applications, such as chatbots that can answer questions about real-world topics.')],\n",
              " 'answer': 'RAG stands for Retrieval Augmented Generation. It is a technique that uses a large language model (LLM) to generate text, but also uses information retrieved from a search engine to ground the generated text. This can be done by injecting the query and the retrieved context into the prompt that is sent to the LLM.\\n\\nRAG has been shown to be effective for a variety of tasks, including question answering, summarization, and translation. It is also being used to develop new applications, such as chatbots that can answer questions about real-world topics.\\n\\nOne of the advantages of RAG is that it can help to improve the accuracy of LLMs. When an LLM is given a query, it may not be able to generate a correct answer if it does not have enough information. However, if the LLM is given the query and the retrieved context, it can use this information to generate a more accurate answer.\\n\\nAnother advantage of RAG is that it can help to improve the fluency of LLMs. When an LLM is given a query, it may generate text that is grammatically correct, but it may not sound natural. However, if the LLM is given the query and the retrieved context, it can use this information to generate text that is both grammatically correct and natural-sounding.\\n\\nRAG is a promising new technique that has the potential to improve the performance of LLMs on a variety of tasks. It is also being used to develop new applications, such as chatbots that can answer questions about real-world topics.'}"
            ]
          },
          "metadata": {},
          "execution_count": 24
        }
      ]
    },
    {
      "cell_type": "code",
      "source": [
        "qa.invoke({\"question\": \"What things RAG can do?\"})"
      ],
      "metadata": {
        "colab": {
          "base_uri": "https://localhost:8080/",
          "height": 1000
        },
        "id": "ERI0j8D_x-uA",
        "outputId": "c2274797-b15d-47ab-c37e-6ec5c2b0d541"
      },
      "execution_count": 25,
      "outputs": [
        {
          "output_type": "stream",
          "name": "stdout",
          "text": [
            "\n",
            "\n",
            "\u001b[1m> Entering new LLMChain chain...\u001b[0m\n",
            "Prompt after formatting:\n",
            "\u001b[32;1m\u001b[1;3mGiven the following conversation and a follow up question, rephrase the follow up question to be a standalone question, in its original language.\n",
            "\n",
            "Chat History:\n",
            "\n",
            "Human: What's RAG?\n",
            "Assistant: RAG stands for Retrieval Augmented Generation. It is a technique that uses a large language model (LLM) to generate text, but also uses information retrieved from a search engine to ground the generated text. This can be done by injecting the query and the retrieved context into the prompt that is sent to the LLM.\n",
            "\n",
            "RAG has been shown to be effective for a variety of tasks, including question answering, summarization, and translation. It is also being used to develop new applications, such as chatbots that can answer questions about real-world topics.\n",
            "\n",
            "One of the advantages of RAG is that it can help to improve the accuracy of LLMs. When an LLM is given a query, it may not be able to generate a correct answer if it does not have enough information. However, if the LLM is given the query and the retrieved context, it can use this information to generate a more accurate answer.\n",
            "\n",
            "Another advantage of RAG is that it can help to improve the fluency of LLMs. When an LLM is given a query, it may generate text that is grammatically correct, but it may not sound natural. However, if the LLM is given the query and the retrieved context, it can use this information to generate text that is both grammatically correct and natural-sounding.\n",
            "\n",
            "RAG is a promising new technique that has the potential to improve the performance of LLMs on a variety of tasks. It is also being used to develop new applications, such as chatbots that can answer questions about real-world topics.\n",
            "Follow Up Input: What things RAG can do?\n",
            "Standalone question:\u001b[0m\n",
            "\n",
            "\u001b[1m> Finished chain.\u001b[0m\n",
            "\n",
            "\n",
            "\u001b[1m> Entering new StuffDocumentsChain chain...\u001b[0m\n",
            "\n",
            "\n",
            "\u001b[1m> Entering new LLMChain chain...\u001b[0m\n",
            "Prompt after formatting:\n",
            "\u001b[32;1m\u001b[1;3mSystem: Use the following pieces of context to answer the user's question. \n",
            "If you don't know the answer, just say that you don't know, don't try to make up an answer.\n",
            "----------------\n",
            "There are many products build almost solely on RAG — from Question Answering services combining web search engines with LLMs to hundreds of chat-with-your-data apps.\n",
            "\n",
            "Even the vector search area got pumped by that hype although embedding based search engines were made with faiss back in 2019.\n",
            "\n",
            "There are many more other things to consider like web search based RAG (RAGs by LlamaIndex, webLangChain, etc), taking a deeper dive into agentic architectures (and the recent OpenAI stake in this game) and some ideas on LLMs Long-term memory.\n",
            "\n",
            "The main production challenge for RAG systems besides answer relevance and faithfulness is speed, especially if you are into the more flexible agent-based schemes, but that’s a thing for another post.\n",
            "\n",
            "Retrieval Augmented Generation, aka RAG, provides LLMs with the information retrieved from some data source to ground its generated answer on.\n",
            "\n",
            "Basically RAG is Search + LLM prompting, where you ask the model to answer the query provided the information found with the search algorithm as a context.\n",
            "\n",
            "Both the query and the retrieved context are injected into the prompt that is sent to the LLM.RAG is the most popular architecture of the LLM based systems in 2023.\n",
            "\n",
            "The article comes with a collection of links in my knowledge base referencing various implementations and studies mentioned.\n",
            "\n",
            "Since the goal of the post is to make an overview & explanation of avaliable RAG algorithms and techniques, I won’t dive into implementations details in code, just referencing them and leaving it to the vast documentation & tutorials available.\n",
            "\n",
            "IntroIf\n",
            "\n",
            "you are familiar with the RAG concept, please skip to the Advanced RAG part.\n",
            "Human: The follow-up question is \"What things RAG can do?\". A standalone question that is equivalent to this is \"What are the applications of RAG?\".\u001b[0m\n",
            "\n",
            "\u001b[1m> Finished chain.\u001b[0m\n",
            "\n",
            "\u001b[1m> Finished chain.\u001b[0m\n"
          ]
        },
        {
          "output_type": "execute_result",
          "data": {
            "text/plain": [
              "{'question': 'What things RAG can do?',\n",
              " 'chat_history': [HumanMessage(content=\"What's RAG?\"),\n",
              "  AIMessage(content='RAG stands for Retrieval Augmented Generation. It is a technique that uses a large language model (LLM) to generate text, but also uses information retrieved from a search engine to ground the generated text. This can be done by injecting the query and the retrieved context into the prompt that is sent to the LLM.\\n\\nRAG has been shown to be effective for a variety of tasks, including question answering, summarization, and translation. It is also being used to develop new applications, such as chatbots that can answer questions about real-world topics.\\n\\nOne of the advantages of RAG is that it can help to improve the accuracy of LLMs. When an LLM is given a query, it may not be able to generate a correct answer if it does not have enough information. However, if the LLM is given the query and the retrieved context, it can use this information to generate a more accurate answer.\\n\\nAnother advantage of RAG is that it can help to improve the fluency of LLMs. When an LLM is given a query, it may generate text that is grammatically correct, but it may not sound natural. However, if the LLM is given the query and the retrieved context, it can use this information to generate text that is both grammatically correct and natural-sounding.\\n\\nRAG is a promising new technique that has the potential to improve the performance of LLMs on a variety of tasks. It is also being used to develop new applications, such as chatbots that can answer questions about real-world topics.'),\n",
              "  HumanMessage(content='What things RAG can do?'),\n",
              "  AIMessage(content='Retrieval Augmented Generation (RAG) is a technique that combines large language models (LLMs) with information retrieval (IR) to generate more accurate and relevant answers to questions. RAG works by first using IR to retrieve a set of documents that are relevant to the question. The LLM is then prompted to generate an answer based on the retrieved documents. This approach has been shown to be effective for a variety of question answering tasks, including open-domain question answering, question answering over structured data, and question answering in dialogue systems.\\n\\nHere are some of the applications of RAG:\\n\\n* **Question answering:** RAG can be used to answer questions about a variety of topics, including facts, definitions, and opinions. For example, RAG can be used to answer questions like \"What is the capital of France?\", \"What is the definition of love?\", and \"What is your opinion on the current state of the economy?\".\\n* **Question answering over structured data:** RAG can also be used to answer questions about structured data, such as tables and lists. For example, RAG can be used to answer questions like \"What are the top 10 most populous countries in the world?\", \"What are the ingredients in a chocolate chip cookie?\", and \"What are the opening hours of the nearest grocery store?\".\\n* **Question answering in dialogue systems:** RAG can also be used to answer questions in dialogue systems. For example, RAG can be used to answer questions like \"What is the weather like today?\", \"What is the latest news?\", and \"What are your plans for the weekend?\".\\n\\nRAG is a powerful technique that can be used to generate more accurate and relevant answers to questions. It has been shown to be effective for a variety of question answering tasks, including open-domain question answering, question answering over structured data, and question answering in dialogue systems.')],\n",
              " 'answer': 'Retrieval Augmented Generation (RAG) is a technique that combines large language models (LLMs) with information retrieval (IR) to generate more accurate and relevant answers to questions. RAG works by first using IR to retrieve a set of documents that are relevant to the question. The LLM is then prompted to generate an answer based on the retrieved documents. This approach has been shown to be effective for a variety of question answering tasks, including open-domain question answering, question answering over structured data, and question answering in dialogue systems.\\n\\nHere are some of the applications of RAG:\\n\\n* **Question answering:** RAG can be used to answer questions about a variety of topics, including facts, definitions, and opinions. For example, RAG can be used to answer questions like \"What is the capital of France?\", \"What is the definition of love?\", and \"What is your opinion on the current state of the economy?\".\\n* **Question answering over structured data:** RAG can also be used to answer questions about structured data, such as tables and lists. For example, RAG can be used to answer questions like \"What are the top 10 most populous countries in the world?\", \"What are the ingredients in a chocolate chip cookie?\", and \"What are the opening hours of the nearest grocery store?\".\\n* **Question answering in dialogue systems:** RAG can also be used to answer questions in dialogue systems. For example, RAG can be used to answer questions like \"What is the weather like today?\", \"What is the latest news?\", and \"What are your plans for the weekend?\".\\n\\nRAG is a powerful technique that can be used to generate more accurate and relevant answers to questions. It has been shown to be effective for a variety of question answering tasks, including open-domain question answering, question answering over structured data, and question answering in dialogue systems.'}"
            ]
          },
          "metadata": {},
          "execution_count": 25
        }
      ]
    }
  ]
}